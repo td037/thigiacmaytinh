{
 "cells": [
  {
   "cell_type": "code",
   "execution_count": 6,
   "id": "a9a5534b-89ec-4208-b55d-b6375ac28bf6",
   "metadata": {},
   "outputs": [],
   "source": [
    "import cv2"
   ]
  },
  {
   "cell_type": "code",
   "execution_count": 8,
   "id": "40b62ffb-59f1-419b-8d81-8ae08c214adb",
   "metadata": {},
   "outputs": [],
   "source": [
    "my_video = cv2.VideoCapture('D:/Thi giac may tinh/image/mm.mp4')"
   ]
  },
  {
   "cell_type": "code",
   "execution_count": 10,
   "id": "dca7357e-da45-4960-a912-9cd8da5078b1",
   "metadata": {},
   "outputs": [],
   "source": [
    "cv2.namedWindow('Video Player', cv2.WINDOW_NORMAL)"
   ]
  },
  {
   "cell_type": "code",
   "execution_count": 12,
   "id": "0446cc3b-d131-43a2-b38c-146ed56e4ca2",
   "metadata": {},
   "outputs": [],
   "source": [
    "while True:\n",
    "    ret, frame = my_video.read()\n",
    "    if not ret:\n",
    "        break\n",
    "    cv2.imshow('Video Player', frame)\n",
    "    if(cv2.waitKey(10)==ord('q')):\n",
    "        break"
   ]
  },
  {
   "cell_type": "code",
   "execution_count": null,
   "id": "97171c6f-ea55-4234-b6d4-35353ea4984b",
   "metadata": {},
   "outputs": [],
   "source": []
  },
  {
   "cell_type": "code",
   "execution_count": null,
   "id": "b7ea8877-30a6-4d28-b513-bf8e70b9ea62",
   "metadata": {},
   "outputs": [],
   "source": []
  }
 ],
 "metadata": {
  "kernelspec": {
   "display_name": "Python 3 (ipykernel)",
   "language": "python",
   "name": "python3"
  },
  "language_info": {
   "codemirror_mode": {
    "name": "ipython",
    "version": 3
   },
   "file_extension": ".py",
   "mimetype": "text/x-python",
   "name": "python",
   "nbconvert_exporter": "python",
   "pygments_lexer": "ipython3",
   "version": "3.12.4"
  }
 },
 "nbformat": 4,
 "nbformat_minor": 5
}
