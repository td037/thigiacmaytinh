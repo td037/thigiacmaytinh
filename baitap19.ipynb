{
 "cells": [
  {
   "cell_type": "code",
   "execution_count": 6,
   "id": "a493b4d8-2201-46ce-94b5-7d7d22dee9cc",
   "metadata": {},
   "outputs": [
    {
     "name": "stdout",
     "output_type": "stream",
     "text": [
      "Defaulting to user installation because normal site-packages is not writeable\n",
      "Requirement already satisfied: opencv-python in c:\\users\\hp\\appdata\\roaming\\python\\python312\\site-packages (4.10.0.84)\n",
      "Requirement already satisfied: numpy>=1.21.2 in d:\\thi giac may tinh\\2\\lib\\site-packages (from opencv-python) (1.26.4)\n"
     ]
    }
   ],
   "source": [
    "#!pip install opencv-python"
   ]
  },
  {
   "cell_type": "code",
   "execution_count": 85,
   "id": "1aafa45e-890c-4af2-a35c-1f24a5361857",
   "metadata": {},
   "outputs": [],
   "source": [
    "def display(title, img):\n",
    "    cv2.imshow(title, img)\n",
    "    # Chờ một khoảng thời gian\n",
    "    cv2.waitKey(0)\n",
    "    # Đóng window\n",
    "    cv2.destroyWindow(title)"
   ]
  },
  {
   "cell_type": "code",
   "execution_count": 87,
   "id": "d22a22ff-12d6-4e5f-bbad-49839ae2db7a",
   "metadata": {},
   "outputs": [],
   "source": [
    "import cv2"
   ]
  },
  {
   "cell_type": "code",
   "execution_count": 89,
   "id": "2b1a42df-9730-4a63-a7c5-1f042af43e37",
   "metadata": {},
   "outputs": [
    {
     "name": "stdout",
     "output_type": "stream",
     "text": [
      "[[[222 231 245]\n",
      "  [222 231 245]\n",
      "  [222 231 245]\n",
      "  ...\n",
      "  [222 231 245]\n",
      "  [222 231 245]\n",
      "  [222 231 245]]\n",
      "\n",
      " [[222 231 245]\n",
      "  [222 231 245]\n",
      "  [222 231 245]\n",
      "  ...\n",
      "  [222 231 245]\n",
      "  [222 231 245]\n",
      "  [222 231 245]]\n",
      "\n",
      " [[222 231 245]\n",
      "  [222 231 245]\n",
      "  [222 231 245]\n",
      "  ...\n",
      "  [222 231 245]\n",
      "  [222 231 245]\n",
      "  [222 231 245]]\n",
      "\n",
      " ...\n",
      "\n",
      " [[222 231 245]\n",
      "  [222 231 245]\n",
      "  [222 231 245]\n",
      "  ...\n",
      "  [222 231 245]\n",
      "  [222 231 245]\n",
      "  [222 231 245]]\n",
      "\n",
      " [[222 231 245]\n",
      "  [222 231 245]\n",
      "  [222 231 245]\n",
      "  ...\n",
      "  [222 231 245]\n",
      "  [222 231 245]\n",
      "  [222 231 245]]\n",
      "\n",
      " [[222 231 245]\n",
      "  [222 231 245]\n",
      "  [222 231 245]\n",
      "  ...\n",
      "  [222 231 245]\n",
      "  [222 231 245]\n",
      "  [222 231 245]]]\n"
     ]
    }
   ],
   "source": [
    "path ='D:/Thi giac may tinh/image/11.jpg'\n",
    "img= cv2.imread(path)\n",
    "print(img)"
   ]
  },
  {
   "cell_type": "code",
   "execution_count": 91,
   "id": "4400cc0f-6036-4972-a9d8-09c2de19e9d8",
   "metadata": {},
   "outputs": [
    {
     "name": "stdout",
     "output_type": "stream",
     "text": [
      "(628, 1200, 3)\n",
      "628\n",
      "1200\n",
      "3\n"
     ]
    }
   ],
   "source": [
    "print(img.shape)\n",
    "x, y, z = img.shape\n",
    "print(x)\n",
    "print(y)\n",
    "print(z)"
   ]
  },
  {
   "cell_type": "code",
   "execution_count": 93,
   "id": "85b164cf-a0c1-4b81-b346-1b082aec84cc",
   "metadata": {},
   "outputs": [
    {
     "ename": "AttributeError",
     "evalue": "module 'cv2' has no attribute 'destroyAllWindow'",
     "output_type": "error",
     "traceback": [
      "\u001b[1;31m---------------------------------------------------------------------------\u001b[0m",
      "\u001b[1;31mAttributeError\u001b[0m                            Traceback (most recent call last)",
      "Cell \u001b[1;32mIn[93], line 7\u001b[0m\n\u001b[0;32m      5\u001b[0m cv2\u001b[38;5;241m.\u001b[39mimshow(\u001b[38;5;124m'\u001b[39m\u001b[38;5;124mRed\u001b[39m\u001b[38;5;124m'\u001b[39m,r)\n\u001b[0;32m      6\u001b[0m cv2\u001b[38;5;241m.\u001b[39mwaitKey(\u001b[38;5;241m0\u001b[39m)\n\u001b[1;32m----> 7\u001b[0m cv2\u001b[38;5;241m.\u001b[39mdestroyAllWindow()\n",
      "\u001b[1;31mAttributeError\u001b[0m: module 'cv2' has no attribute 'destroyAllWindow'"
     ]
    }
   ],
   "source": [
    "b, g, r =cv2.split(img)\n",
    "cv2.imshow('window',img)\n",
    "cv2.imshow('Blue',b)\n",
    "cv2.imshow('Green',g)\n",
    "cv2.imshow('Red',r)\n",
    "cv2.waitKey(0)\n",
    "cv2.destroyAllWindow()\n"
   ]
  },
  {
   "cell_type": "code",
   "execution_count": 81,
   "id": "ed3d8373-8fee-4429-81c9-64b0f213dcd1",
   "metadata": {},
   "outputs": [],
   "source": [
    "gray_img= cv2.cvtColor(img, cv2.COLOR_BGR2GRAY)\n",
    "img_2 = cv2.cvtColor(img, cv2.COLOR_BGR2RGB)\n",
    "cv2.imshow('Window', img)\n",
    "cv2.imshow('gray_img', gray_img)\n",
    "cv2.imshow('img_2', img_2)\n",
    "cv2.waitKey(0)\n",
    "cv2.destroyAllWindows()"
   ]
  },
  {
   "cell_type": "code",
   "execution_count": 83,
   "id": "1e09cadd-2809-4be6-8bc0-2d85e867aeda",
   "metadata": {},
   "outputs": [
    {
     "ename": "error",
     "evalue": "OpenCV(4.10.0) D:\\a\\opencv-python\\opencv-python\\opencv\\modules\\highgui\\src\\window_w32.cpp:1261: error: (-27:Null pointer) NULL window: 'Window-2' in function 'cvDestroyWindow'\n",
     "output_type": "error",
     "traceback": [
      "\u001b[1;31m---------------------------------------------------------------------------\u001b[0m",
      "\u001b[1;31merror\u001b[0m                                     Traceback (most recent call last)",
      "Cell \u001b[1;32mIn[83], line 10\u001b[0m\n\u001b[0;32m      8\u001b[0m         img2[y, x] \u001b[38;5;241m=\u001b[39m green_color\n\u001b[0;32m      9\u001b[0m display(\u001b[38;5;124m'\u001b[39m\u001b[38;5;124mWindow\u001b[39m\u001b[38;5;124m'\u001b[39m, img)\n\u001b[1;32m---> 10\u001b[0m display(\u001b[38;5;124m'\u001b[39m\u001b[38;5;124mWindow-2\u001b[39m\u001b[38;5;124m'\u001b[39m, img2)\n",
      "Cell \u001b[1;32mIn[71], line 6\u001b[0m, in \u001b[0;36mdisplay\u001b[1;34m(title, img)\u001b[0m\n\u001b[0;32m      4\u001b[0m cv2\u001b[38;5;241m.\u001b[39mwaitKey(\u001b[38;5;241m0\u001b[39m)\n\u001b[0;32m      5\u001b[0m \u001b[38;5;66;03m# Đóng window\u001b[39;00m\n\u001b[1;32m----> 6\u001b[0m cv2\u001b[38;5;241m.\u001b[39mdestroyWindow(title)\n",
      "\u001b[1;31merror\u001b[0m: OpenCV(4.10.0) D:\\a\\opencv-python\\opencv-python\\opencv\\modules\\highgui\\src\\window_w32.cpp:1261: error: (-27:Null pointer) NULL window: 'Window-2' in function 'cvDestroyWindow'\n"
     ]
    }
   ],
   "source": [
    "height, width, z = img.shape\n",
    "quater_h = height/2\n",
    "quater_w = width/2\n",
    "green_color = (0,255,0)\n",
    "img2 = img.copy()\n",
    "for y in range(int(quater_h)):\n",
    "    for x in range(int(quater_w)):\n",
    "        img2[y, x] = green_color\n",
    "display('Window', img)\n",
    "display('Window-2', img2)"
   ]
  },
  {
   "cell_type": "code",
   "execution_count": null,
   "id": "6f76a489-afb6-4324-b5e3-87f64004baa3",
   "metadata": {},
   "outputs": [],
   "source": []
  }
 ],
 "metadata": {
  "kernelspec": {
   "display_name": "Python 3 (ipykernel)",
   "language": "python",
   "name": "python3"
  },
  "language_info": {
   "codemirror_mode": {
    "name": "ipython",
    "version": 3
   },
   "file_extension": ".py",
   "mimetype": "text/x-python",
   "name": "python",
   "nbconvert_exporter": "python",
   "pygments_lexer": "ipython3",
   "version": "3.12.4"
  }
 },
 "nbformat": 4,
 "nbformat_minor": 5
}
