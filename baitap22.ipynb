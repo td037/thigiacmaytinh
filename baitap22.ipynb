{
 "cells": [
  {
   "cell_type": "code",
   "execution_count": 11,
   "id": "cd454702-f940-4536-b7de-5db51791fd60",
   "metadata": {},
   "outputs": [],
   "source": [
    "import cv2\n",
    "import time\n"
   ]
  },
  {
   "cell_type": "code",
   "execution_count": 13,
   "id": "c5cacd59-64f0-4828-8404-6f5d796167ad",
   "metadata": {},
   "outputs": [],
   "source": [
    "my_video = cv2.VideoCapture('D:/Thi giac may tinh/image/mm.mp4')"
   ]
  },
  {
   "cell_type": "code",
   "execution_count": 15,
   "id": "6031d012-8835-481c-a079-a4575e523e1b",
   "metadata": {},
   "outputs": [],
   "source": [
    "cv2.namedWindow('Video Player', cv2.WINDOW_NORMAL)"
   ]
  },
  {
   "cell_type": "code",
   "execution_count": 17,
   "id": "184ebd2b-9840-46a7-b6cc-72130441f023",
   "metadata": {},
   "outputs": [],
   "source": [
    "font = cv2.FONT_HERSHEY_SIMPLEX\n",
    "font_color = (255, 255, 255)\n",
    "font_scale = 2\n",
    "font_thicknes = 2"
   ]
  },
  {
   "cell_type": "code",
   "execution_count": 19,
   "id": "31958033-8d78-4d19-8c54-3a4b762f0673",
   "metadata": {},
   "outputs": [],
   "source": [
    "while True:\n",
    "    start_time = time.time()\n",
    "    ret, frame = my_video.read()\n",
    "    if not ret:\n",
    "        break\n",
    "    end_time = time.time()    \n",
    "    # Tình FPS:\n",
    "    fps = 1/(end_time-start_time)\n",
    "    cv2.putText(frame, f'FPS: {fps:.2f}', (100, 100), font, font_scale, font_color , font_thicknes)\n",
    "    cv2.imshow('Video Player', frame)\n",
    "    if(cv2.waitKey(10)==ord('q')):\n",
    "        break\n",
    "\n",
    "my_video.release()\n",
    "cv2.destroyAllWindows()"
   ]
  },
  {
   "cell_type": "code",
   "execution_count": null,
   "id": "42ef1742-e3e7-4257-984e-8495f2dabb35",
   "metadata": {},
   "outputs": [],
   "source": []
  },
  {
   "cell_type": "code",
   "execution_count": null,
   "id": "e6f56635-d2f6-47bb-a55b-40f040c3f5e5",
   "metadata": {},
   "outputs": [],
   "source": []
  }
 ],
 "metadata": {
  "kernelspec": {
   "display_name": "Python 3 (ipykernel)",
   "language": "python",
   "name": "python3"
  },
  "language_info": {
   "codemirror_mode": {
    "name": "ipython",
    "version": 3
   },
   "file_extension": ".py",
   "mimetype": "text/x-python",
   "name": "python",
   "nbconvert_exporter": "python",
   "pygments_lexer": "ipython3",
   "version": "3.12.4"
  }
 },
 "nbformat": 4,
 "nbformat_minor": 5
}
