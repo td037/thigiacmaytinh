{
 "cells": [
  {
   "cell_type": "code",
   "execution_count": null,
   "id": "478e199c-31d7-4c07-be39-07276d66e5ac",
   "metadata": {},
   "outputs": [],
   "source": [
    "import cv2\n",
    "import numpy as np"
   ]
  },
  {
   "cell_type": "code",
   "execution_count": 238,
   "id": "4201364e-a6cc-48a9-a411-161529b084b7",
   "metadata": {},
   "outputs": [],
   "source": [
    "def display(title, img):\n",
    "    cv2.imshow(title, img)\n",
    "    cv2.waitKey(0)\n",
    "    cv2.destroyWindow(title)"
   ]
  },
  {
   "cell_type": "code",
   "execution_count": 240,
   "id": "2969cec4-fcc9-4d2e-bc66-65b8c889c3c5",
   "metadata": {},
   "outputs": [],
   "source": [
    "img =  np.zeros((500, 500, 3), dtype=np.uint8)\n",
    "display('Image', img)"
   ]
  },
  {
   "cell_type": "code",
   "execution_count": 242,
   "id": "11b45bb1-3690-4c9e-9fa1-fa3d8ea045f3",
   "metadata": {},
   "outputs": [],
   "source": [
    "cv2.line(img, (70, 70) , (350, 350), (128,128,128), 2)\n",
    "display('Image', img)"
   ]
  },
  {
   "cell_type": "code",
   "execution_count": 244,
   "id": "79eca2e4-53e0-423f-88cc-e5507157dad6",
   "metadata": {},
   "outputs": [],
   "source": [
    "cv2.circle(img, (100,100), 50, (127, 255, 0), -1)\n",
    "display('Image', img)"
   ]
  },
  {
   "cell_type": "code",
   "execution_count": 246,
   "id": "7a081097-7292-424b-b46f-fb27f3663272",
   "metadata": {},
   "outputs": [],
   "source": [
    "cv2.rectangle(img, (100,10),(300,300), (255, 128, 0), -1)\n",
    "display('Image', img)"
   ]
  },
  {
   "cell_type": "code",
   "execution_count": null,
   "id": "1983a944-7064-4de7-9f83-da05c04cf22f",
   "metadata": {},
   "outputs": [],
   "source": [
    "content = 'Ho Tuan Dung'\n",
    "font = cv2.FONT_HERSHEY_SIMPLEX\n",
    "cv2.putText(img, content, (10, 480), font, 0.6, (255, 255, 255), 2)\n",
    "display('Image', img)"
   ]
  },
  {
   "cell_type": "code",
   "execution_count": null,
   "id": "edd4eb27-3006-4791-badc-7287f23aaa24",
   "metadata": {},
   "outputs": [],
   "source": []
  },
  {
   "cell_type": "code",
   "execution_count": null,
   "id": "2586d485-4c77-407d-9acb-ce60a78b93ea",
   "metadata": {},
   "outputs": [],
   "source": []
  }
 ],
 "metadata": {
  "kernelspec": {
   "display_name": "Python 3 (ipykernel)",
   "language": "python",
   "name": "python3"
  },
  "language_info": {
   "codemirror_mode": {
    "name": "ipython",
    "version": 3
   },
   "file_extension": ".py",
   "mimetype": "text/x-python",
   "name": "python",
   "nbconvert_exporter": "python",
   "pygments_lexer": "ipython3",
   "version": "3.12.4"
  }
 },
 "nbformat": 4,
 "nbformat_minor": 5
}
